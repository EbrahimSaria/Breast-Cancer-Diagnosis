{
 "cells": [
  {
   "cell_type": "code",
   "execution_count": 1,
   "metadata": {},
   "outputs": [],
   "source": [
    "import numpy as np\n",
    "import matplotlib.pyplot as plt\n",
    "import pandas as pd\n",
    "from sklearn.metrics import accuracy_score"
   ]
  },
  {
   "cell_type": "code",
   "execution_count": 2,
   "metadata": {},
   "outputs": [
    {
     "data": {
      "text/html": [
       "<div>\n",
       "<style scoped>\n",
       "    .dataframe tbody tr th:only-of-type {\n",
       "        vertical-align: middle;\n",
       "    }\n",
       "\n",
       "    .dataframe tbody tr th {\n",
       "        vertical-align: top;\n",
       "    }\n",
       "\n",
       "    .dataframe thead th {\n",
       "        text-align: right;\n",
       "    }\n",
       "</style>\n",
       "<table border=\"1\" class=\"dataframe\">\n",
       "  <thead>\n",
       "    <tr style=\"text-align: right;\">\n",
       "      <th></th>\n",
       "      <th>id</th>\n",
       "      <th>clump_thickness</th>\n",
       "      <th>unif_cell_size</th>\n",
       "      <th>unif_cell_shape</th>\n",
       "      <th>marg_adhesion</th>\n",
       "      <th>single_epith_cell_size</th>\n",
       "      <th>bare_nuclei</th>\n",
       "      <th>bland_chrom</th>\n",
       "      <th>norm_nucleoli</th>\n",
       "      <th>mitoses</th>\n",
       "      <th>classes</th>\n",
       "    </tr>\n",
       "  </thead>\n",
       "  <tbody>\n",
       "    <tr>\n",
       "      <th>0</th>\n",
       "      <td>1000025</td>\n",
       "      <td>5</td>\n",
       "      <td>1</td>\n",
       "      <td>1</td>\n",
       "      <td>1</td>\n",
       "      <td>2</td>\n",
       "      <td>1</td>\n",
       "      <td>3</td>\n",
       "      <td>1</td>\n",
       "      <td>1</td>\n",
       "      <td>0</td>\n",
       "    </tr>\n",
       "    <tr>\n",
       "      <th>1</th>\n",
       "      <td>1002945</td>\n",
       "      <td>5</td>\n",
       "      <td>4</td>\n",
       "      <td>4</td>\n",
       "      <td>5</td>\n",
       "      <td>7</td>\n",
       "      <td>10</td>\n",
       "      <td>3</td>\n",
       "      <td>2</td>\n",
       "      <td>1</td>\n",
       "      <td>0</td>\n",
       "    </tr>\n",
       "    <tr>\n",
       "      <th>2</th>\n",
       "      <td>1015425</td>\n",
       "      <td>3</td>\n",
       "      <td>1</td>\n",
       "      <td>1</td>\n",
       "      <td>1</td>\n",
       "      <td>2</td>\n",
       "      <td>2</td>\n",
       "      <td>3</td>\n",
       "      <td>1</td>\n",
       "      <td>1</td>\n",
       "      <td>0</td>\n",
       "    </tr>\n",
       "    <tr>\n",
       "      <th>3</th>\n",
       "      <td>1016277</td>\n",
       "      <td>6</td>\n",
       "      <td>8</td>\n",
       "      <td>8</td>\n",
       "      <td>1</td>\n",
       "      <td>3</td>\n",
       "      <td>4</td>\n",
       "      <td>3</td>\n",
       "      <td>7</td>\n",
       "      <td>1</td>\n",
       "      <td>0</td>\n",
       "    </tr>\n",
       "    <tr>\n",
       "      <th>4</th>\n",
       "      <td>1017023</td>\n",
       "      <td>4</td>\n",
       "      <td>1</td>\n",
       "      <td>1</td>\n",
       "      <td>3</td>\n",
       "      <td>2</td>\n",
       "      <td>1</td>\n",
       "      <td>3</td>\n",
       "      <td>1</td>\n",
       "      <td>1</td>\n",
       "      <td>0</td>\n",
       "    </tr>\n",
       "  </tbody>\n",
       "</table>\n",
       "</div>"
      ],
      "text/plain": [
       "        id  clump_thickness  unif_cell_size  unif_cell_shape  marg_adhesion  \\\n",
       "0  1000025                5               1                1              1   \n",
       "1  1002945                5               4                4              5   \n",
       "2  1015425                3               1                1              1   \n",
       "3  1016277                6               8                8              1   \n",
       "4  1017023                4               1                1              3   \n",
       "\n",
       "   single_epith_cell_size bare_nuclei  bland_chrom  norm_nucleoli  mitoses  \\\n",
       "0                       2           1            3              1        1   \n",
       "1                       7          10            3              2        1   \n",
       "2                       2           2            3              1        1   \n",
       "3                       3           4            3              7        1   \n",
       "4                       2           1            3              1        1   \n",
       "\n",
       "   classes  \n",
       "0        0  \n",
       "1        0  \n",
       "2        0  \n",
       "3        0  \n",
       "4        0  "
      ]
     },
     "execution_count": 2,
     "metadata": {},
     "output_type": "execute_result"
    }
   ],
   "source": [
    "# Importing data\n",
    "\n",
    "df = pd.read_csv('breast_cancer.csv')\n",
    "df.head()"
   ]
  },
  {
   "cell_type": "code",
   "execution_count": 3,
   "metadata": {},
   "outputs": [],
   "source": [
    "df.replace('?',-99999,inplace=True)\n",
    "df.drop(['id'],1,inplace=True)"
   ]
  },
  {
   "cell_type": "code",
   "execution_count": 4,
   "metadata": {},
   "outputs": [],
   "source": [
    "X=np.array(df.drop(['classes'],1))\n",
    "y=np.array(df['classes'])"
   ]
  },
  {
   "cell_type": "code",
   "execution_count": 5,
   "metadata": {},
   "outputs": [],
   "source": [
    "# Splitting the data into the Training set and Test set\n",
    "\n",
    "from sklearn.model_selection import train_test_split\n",
    "X_train, X_test, y_train, y_test = train_test_split(X, y, test_size = 0.35, random_state = 110)"
   ]
  },
  {
   "cell_type": "code",
   "execution_count": 6,
   "metadata": {},
   "outputs": [],
   "source": [
    "# Feature Scaling\n",
    "\n",
    "from sklearn.preprocessing import StandardScaler\n",
    "sc = StandardScaler()\n",
    "X_train = sc.fit_transform(X_train)\n",
    "X_test = sc.transform(X_test)"
   ]
  },
  {
   "cell_type": "code",
   "execution_count": 7,
   "metadata": {},
   "outputs": [
    {
     "name": "stdout",
     "output_type": "stream",
     "text": [
      "[[146   5]\n",
      " [  6  88]]\n",
      "Accuracy score of train KNN\n",
      "100.0\n",
      "Accuracy score of test KNN\n",
      "95.51020408163265\n",
      "[[146   5]\n",
      " [ 12  82]]\n",
      "Accuracy score of train KNN\n",
      "96.47577092511013\n",
      "Accuracy score of test KNN\n",
      "93.06122448979592\n",
      "[[145   6]\n",
      " [  4  90]]\n",
      "Accuracy score of train KNN\n",
      "97.3568281938326\n",
      "Accuracy score of test KNN\n",
      "95.91836734693877\n",
      "[[145   6]\n",
      " [  5  89]]\n",
      "Accuracy score of train KNN\n",
      "96.91629955947137\n",
      "Accuracy score of test KNN\n",
      "95.51020408163265\n",
      "[[144   7]\n",
      " [  4  90]]\n",
      "Accuracy score of train KNN\n",
      "96.69603524229075\n",
      "Accuracy score of test KNN\n",
      "95.51020408163265\n",
      "[[146   5]\n",
      " [  5  89]]\n",
      "Accuracy score of train KNN\n",
      "96.0352422907489\n",
      "Accuracy score of test KNN\n",
      "95.91836734693877\n",
      "[[146   5]\n",
      " [  4  90]]\n",
      "Accuracy score of train KNN\n",
      "95.81497797356829\n",
      "Accuracy score of test KNN\n",
      "96.3265306122449\n",
      "[[147   4]\n",
      " [  6  88]]\n",
      "Accuracy score of train KNN\n",
      "96.25550660792952\n",
      "Accuracy score of test KNN\n",
      "95.91836734693877\n",
      "[[147   4]\n",
      " [  4  90]]\n",
      "Accuracy score of train KNN\n",
      "96.25550660792952\n",
      "Accuracy score of test KNN\n",
      "96.73469387755102\n",
      "[[147   4]\n",
      " [  5  89]]\n",
      "Accuracy score of train KNN\n",
      "96.47577092511013\n",
      "Accuracy score of test KNN\n",
      "96.3265306122449\n",
      "[[147   4]\n",
      " [  4  90]]\n",
      "Accuracy score of train KNN\n",
      "96.25550660792952\n",
      "Accuracy score of test KNN\n",
      "96.73469387755102\n",
      "[[147   4]\n",
      " [  4  90]]\n",
      "Accuracy score of train KNN\n",
      "96.25550660792952\n",
      "Accuracy score of test KNN\n",
      "96.73469387755102\n",
      "[[147   4]\n",
      " [  4  90]]\n",
      "Accuracy score of train KNN\n",
      "96.25550660792952\n",
      "Accuracy score of test KNN\n",
      "96.73469387755102\n",
      "[[147   4]\n",
      " [  5  89]]\n",
      "Accuracy score of train KNN\n",
      "96.0352422907489\n",
      "Accuracy score of test KNN\n",
      "96.3265306122449\n",
      "[[147   4]\n",
      " [  5  89]]\n",
      "Accuracy score of train KNN\n",
      "96.0352422907489\n",
      "Accuracy score of test KNN\n",
      "96.3265306122449\n",
      "[[147   4]\n",
      " [  5  89]]\n",
      "Accuracy score of train KNN\n",
      "96.0352422907489\n",
      "Accuracy score of test KNN\n",
      "96.3265306122449\n",
      "[[147   4]\n",
      " [  4  90]]\n",
      "Accuracy score of train KNN\n",
      "95.81497797356829\n",
      "Accuracy score of test KNN\n",
      "96.73469387755102\n",
      "[[147   4]\n",
      " [  5  89]]\n",
      "Accuracy score of train KNN\n",
      "95.37444933920705\n",
      "Accuracy score of test KNN\n",
      "96.3265306122449\n",
      "[[147   4]\n",
      " [  4  90]]\n",
      "Accuracy score of train KNN\n",
      "95.37444933920705\n",
      "Accuracy score of test KNN\n",
      "96.73469387755102\n",
      "[[147   4]\n",
      " [  4  90]]\n",
      "Accuracy score of train KNN\n",
      "95.37444933920705\n",
      "Accuracy score of test KNN\n",
      "96.73469387755102\n"
     ]
    }
   ],
   "source": [
    "# K-Nearest Neighbors\n",
    "\n",
    "from sklearn.neighbors import KNeighborsClassifier\n",
    "knn = []\n",
    "for i in range(1,21):\n",
    "            \n",
    "    classifier = KNeighborsClassifier(n_neighbors=i)\n",
    "    trained_model=classifier.fit(X_train,y_train)\n",
    "    trained_model.fit(X_train,y_train )\n",
    "    \n",
    "    # Predicting the Test set results\n",
    "    \n",
    "    y_pred = classifier.predict(X_test)\n",
    "    \n",
    "    # Making the Confusion Matrix\n",
    "    \n",
    "    from sklearn.metrics import confusion_matrix\n",
    "    \n",
    "    cm_KNN = confusion_matrix(y_test, y_pred)\n",
    "    print(cm_KNN)\n",
    "    print(\"Accuracy score of train KNN\")\n",
    "    print(accuracy_score(y_train, trained_model.predict(X_train))*100)\n",
    "    \n",
    "    print(\"Accuracy score of test KNN\")\n",
    "    print(accuracy_score(y_test, y_pred)*100)\n",
    "    \n",
    "    knn.append(accuracy_score(y_test, y_pred)*100)"
   ]
  },
  {
   "cell_type": "code",
   "execution_count": 8,
   "metadata": {},
   "outputs": [
    {
     "data": {
      "text/plain": [
       "Text(0, 0.5, 'Accuracy')"
      ]
     },
     "execution_count": 8,
     "metadata": {},
     "output_type": "execute_result"
    },
    {
     "data": {
      "image/png": "[encoded data removed]",
      "text/plain": [
       "<Figure size 864x432 with 1 Axes>"
      ]
     },
     "metadata": {
      "needs_background": "light"
     },
     "output_type": "display_data"
    }
   ],
   "source": [
    "plt.figure(figsize=(12, 6))  \n",
    "plt.plot(range(1, 21),knn, color='red', linestyle='dashed', marker='o',  \n",
    "             markerfacecolor='blue', markersize=10)\n",
    "plt.title('Accuracy variation with Value of K')  \n",
    "plt.xlabel('K-Value')  \n",
    "plt.ylabel('Accuracy') \n"
   ]
  },
  {
   "cell_type": "code",
   "execution_count": 9,
   "metadata": {},
   "outputs": [
    {
     "data": {
      "text/plain": [
       "SVC(C=1.0, break_ties=False, cache_size=200, class_weight=None, coef0=0.0,\n",
       "    decision_function_shape='ovr', degree=3, gamma='scale', kernel='linear',\n",
       "    max_iter=-1, probability=False, random_state=0, shrinking=True, tol=0.001,\n",
       "    verbose=False)"
      ]
     },
     "execution_count": 9,
     "metadata": {},
     "output_type": "execute_result"
    }
   ],
   "source": [
    "# Support Vector Machines\n",
    "\n",
    "from sklearn.svm import SVC\n",
    "classifier = SVC(kernel = 'linear', random_state = 0)\n",
    "\n",
    "trained_model=classifier.fit(X_train,y_train)\n",
    "trained_model.fit(X_train,y_train )"
   ]
  },
  {
   "cell_type": "code",
   "execution_count": 10,
   "metadata": {},
   "outputs": [],
   "source": [
    "y_pred = classifier.predict(X_test)"
   ]
  },
  {
   "cell_type": "code",
   "execution_count": 11,
   "metadata": {},
   "outputs": [
    {
     "name": "stdout",
     "output_type": "stream",
     "text": [
      "[[145   6]\n",
      " [  3  91]]\n",
      "Accuracy score of train SVM\n",
      "96.0352422907489\n",
      "Accuracy score of test SVM\n",
      "96.3265306122449\n"
     ]
    }
   ],
   "source": [
    "# Confusion Matrix\n",
    "\n",
    "from sklearn.metrics import confusion_matrix\n",
    "cm_SVM = confusion_matrix(y_test, y_pred)\n",
    "print(cm_SVM)\n",
    "print(\"Accuracy score of train SVM\")\n",
    "print(accuracy_score(y_train, trained_model.predict(X_train))*100)\n",
    "\n",
    "print(\"Accuracy score of test SVM\")\n",
    "print(accuracy_score(y_test, y_pred)*100)"
   ]
  },
  {
   "cell_type": "code",
   "execution_count": null,
   "metadata": {},
   "outputs": [],
   "source": []
  }
 ],
 "metadata": {
  "kernelspec": {
   "display_name": "Python 3",
   "language": "python",
   "name": "python3"
  },
  "language_info": {
   "codemirror_mode": {
    "name": "ipython",
    "version": 3
   },
   "file_extension": ".py",
   "mimetype": "text/x-python",
   "name": "python",
   "nbconvert_exporter": "python",
   "pygments_lexer": "ipython3",
   "version": "3.7.6"
  }
 },
 "nbformat": 4,
 "nbformat_minor": 4
}
